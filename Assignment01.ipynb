{
  "nbformat": 4,
  "nbformat_minor": 0,
  "metadata": {
    "colab": {
      "provenance": [],
      "authorship_tag": "ABX9TyObsPiKfJqHMgY/lSWyI5PY",
      "include_colab_link": true
    },
    "kernelspec": {
      "name": "python3",
      "display_name": "Python 3"
    },
    "language_info": {
      "name": "python"
    }
  },
  "cells": [
    {
      "cell_type": "markdown",
      "metadata": {
        "id": "view-in-github",
        "colab_type": "text"
      },
      "source": [
        "<a href=\"https://colab.research.google.com/github/akashydv311/onlypy3/blob/main/Assignment01.ipynb\" target=\"_parent\"><img src=\"https://colab.research.google.com/assets/colab-badge.svg\" alt=\"Open In Colab\"/></a>"
      ]
    },
    {
      "cell_type": "code",
      "execution_count": null,
      "metadata": {
        "id": "0aVCGzEwLTd_"
      },
      "outputs": [],
      "source": []
    },
    {
      "cell_type": "markdown",
      "source": [
        "# Part 1: Variables and Memory Allocation"
      ],
      "metadata": {
        "id": "LxP_ys0ALW6x"
      }
    },
    {
      "cell_type": "markdown",
      "source": [
        "### Exercise 1.1: Memory Exploration"
      ],
      "metadata": {
        "id": "xGZdxpvpLa9u"
      }
    },
    {
      "cell_type": "markdown",
      "source": [
        "Write a program that demonstrates how variables and memory allocation work in Python. Your\n",
        "program should:\n",
        "1. Create variables of different types (int, float, string, list, tuple).\n",
        "2. Print the ID (memory address) of each variable using the id() function.\n",
        "3. Create a second variable that references the same object as one of your first variables.\n",
        "4. Modify the original variable and observe what happens to the second one (for both\n",
        "mutable and immutable types).\n",
        "5. Include comments explaining the behavior you observe. **bold text**"
      ],
      "metadata": {
        "id": "1k5tQV2kLjpH"
      }
    },
    {
      "cell_type": "code",
      "source": [
        "# 1. Create variables of different types (int, float, string, list, tuple)\n",
        "a = 10\n",
        "b = 12.78\n",
        "c = \"akash yadav\"\n",
        "d = ['python3', 'java8', 'js', 'c#']\n",
        "e = ('enuron', 'coursera', 'freecodecamp')\n",
        "print(\"Type of the variables:\", type(a), type(b), type(c), type(d), type(e));"
      ],
      "metadata": {
        "colab": {
          "base_uri": "https://localhost:8080/"
        },
        "id": "y5pHXYrcLp4K",
        "outputId": "eab069de-9371-40c1-a754-f344f4a87d74"
      },
      "execution_count": 2,
      "outputs": [
        {
          "output_type": "stream",
          "name": "stdout",
          "text": [
            "Type of the variables: <class 'int'> <class 'float'> <class 'str'> <class 'list'> <class 'tuple'>\n"
          ]
        }
      ]
    },
    {
      "cell_type": "code",
      "source": [
        "# 2. Print the ID (memory address) of each variable using the id() function.\n",
        "print(\"ID of the variables:\", id(a), id(b), id(c), id(d), id(e));"
      ],
      "metadata": {
        "colab": {
          "base_uri": "https://localhost:8080/"
        },
        "id": "umEdOGjmLxjG",
        "outputId": "1c3e9b75-ddcc-4f16-e8b6-60387c968679"
      },
      "execution_count": 3,
      "outputs": [
        {
          "output_type": "stream",
          "name": "stdout",
          "text": [
            "ID of the variables: 10758024 140237462529424 140236585605232 140237463012736 140236585606080\n"
          ]
        }
      ]
    },
    {
      "cell_type": "code",
      "source": [
        "# 3. Create a second variable that references the same object as one of your first variables.\n",
        "x = a\n",
        "y = b\n",
        "z = c\n",
        "m = d\n",
        "n = e\n",
        "print(\"Id of a & x:\", id(a), id(x))\n",
        "print(\"Id of b & y:\", id(b), id(y))\n",
        "print(\"Id of c & z:\", id(c), id(z))\n",
        "print(\"Id of d & m:\", id(d), id(m))\n",
        "print(\"Id of e & n:\", id(e), id(n))"
      ],
      "metadata": {
        "colab": {
          "base_uri": "https://localhost:8080/"
        },
        "id": "eJGKQIAFMmlR",
        "outputId": "1f07f576-a09e-46e8-94e1-d94f5438dde2"
      },
      "execution_count": 4,
      "outputs": [
        {
          "output_type": "stream",
          "name": "stdout",
          "text": [
            "Id of a & x: 10758024 10758024\n",
            "Id of b & y: 140237462529424 140237462529424\n",
            "Id of c & z: 140236585605232 140236585605232\n",
            "Id of d & m: 140237463012736 140237463012736\n",
            "Id of e & n: 140236585606080 140236585606080\n"
          ]
        }
      ]
    },
    {
      "cell_type": "code",
      "source": [
        "# 4. Modify the original variable and observe what happens to the second one (for both\n",
        "# mutable and immutable types).\n",
        "\n",
        "a = a + 1\n",
        "b = b + 10.67\n",
        "c = c + \" learning py3\"\n",
        "d = d + ['SQL']\n",
        "e = e + ('aws', 'gcp')\n",
        "print(\"Id of a & x:\", id(a), id(x))\n",
        "print(\"Id of b & y:\", id(b), id(y))\n",
        "print(\"Id of c & z:\", id(c), id(z))\n",
        "print(\"Id of d & m:\", id(d), id(m))\n",
        "print(\"Id of e & n:\", id(e), id(n))"
      ],
      "metadata": {
        "colab": {
          "base_uri": "https://localhost:8080/"
        },
        "id": "n24E_yPdNa9G",
        "outputId": "59b95c02-6683-4fd6-d5a7-22b72a26f811"
      },
      "execution_count": 5,
      "outputs": [
        {
          "output_type": "stream",
          "name": "stdout",
          "text": [
            "Id of a & x: 10758056 10758024\n",
            "Id of b & y: 140237462532464 140237462529424\n",
            "Id of c & z: 140236583609056 140236585605232\n",
            "Id of d & m: 140237462945152 140237463012736\n",
            "Id of e & n: 140237462905904 140236585606080\n"
          ]
        }
      ]
    },
    {
      "cell_type": "code",
      "source": [
        "# 5. Include comments explaining the behavior you observe.\n",
        "ans = 'All the address has been changed after additing'\n",
        "print(ans)"
      ],
      "metadata": {
        "colab": {
          "base_uri": "https://localhost:8080/"
        },
        "id": "VcG4BGNgOHiW",
        "outputId": "e539a8f3-a614-4ab1-fbb7-e9ae67828950"
      },
      "execution_count": 13,
      "outputs": [
        {
          "output_type": "stream",
          "name": "stdout",
          "text": [
            "All the address has been changed after additing\n"
          ]
        }
      ]
    },
    {
      "cell_type": "code",
      "source": [],
      "metadata": {
        "id": "YZSjzsrSOuzy"
      },
      "execution_count": 8,
      "outputs": []
    }
  ]
}