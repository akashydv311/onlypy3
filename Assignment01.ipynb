{
  "nbformat": 4,
  "nbformat_minor": 0,
  "metadata": {
    "colab": {
      "provenance": [],
      "include_colab_link": true
    },
    "kernelspec": {
      "name": "python3",
      "display_name": "Python 3"
    },
    "language_info": {
      "name": "python"
    }
  },
  "cells": [
    {
      "cell_type": "markdown",
      "metadata": {
        "id": "view-in-github",
        "colab_type": "text"
      },
      "source": [
        "<a href=\"https://colab.research.google.com/github/akashydv311/onlypy3/blob/main/Assignment01.ipynb\" target=\"_parent\"><img src=\"https://colab.research.google.com/assets/colab-badge.svg\" alt=\"Open In Colab\"/></a>"
      ]
    },
    {
      "cell_type": "code",
      "execution_count": 1,
      "metadata": {
        "id": "0aVCGzEwLTd_"
      },
      "outputs": [],
      "source": []
    },
    {
      "cell_type": "markdown",
      "source": [
        "# Part 1: Variables and Memory Allocation"
      ],
      "metadata": {
        "id": "LxP_ys0ALW6x"
      }
    },
    {
      "cell_type": "markdown",
      "source": [
        "### Exercise 1.1: Memory Exploration"
      ],
      "metadata": {
        "id": "xGZdxpvpLa9u"
      }
    },
    {
      "cell_type": "markdown",
      "source": [
        "Write a program that demonstrates how variables and memory allocation work in Python. Your\n",
        "program should:\n",
        "1. Create variables of different types (int, float, string, list, tuple).\n",
        "2. Print the ID (memory address) of each variable using the id() function.\n",
        "3. Create a second variable that references the same object as one of your first variables.\n",
        "4. Modify the original variable and observe what happens to the second one (for both\n",
        "mutable and immutable types).\n",
        "5. Include comments explaining the behavior you observe. **bold text**"
      ],
      "metadata": {
        "id": "1k5tQV2kLjpH"
      }
    },
    {
      "cell_type": "code",
      "source": [
        "# 1. Create variables of different types (int, float, string, list, tuple)\n",
        "a = 10\n",
        "b = 12.78\n",
        "c = \"akash yadav\"\n",
        "d = ['python3', 'java8', 'js', 'c#']\n",
        "e = ('enuron', 'coursera', 'freecodecamp')\n",
        "print(\"Type of the variables:\", type(a), type(b), type(c), type(d), type(e));"
      ],
      "metadata": {
        "colab": {
          "base_uri": "https://localhost:8080/"
        },
        "id": "y5pHXYrcLp4K",
        "outputId": "35773ef5-eddb-4160-f377-29f725cca781"
      },
      "execution_count": 2,
      "outputs": [
        {
          "output_type": "stream",
          "name": "stdout",
          "text": [
            "Type of the variables: <class 'int'> <class 'float'> <class 'str'> <class 'list'> <class 'tuple'>\n"
          ]
        }
      ]
    },
    {
      "cell_type": "code",
      "source": [
        "# 2. Print the ID (memory address) of each variable using the id() function.\n",
        "print(\"ID of the variables:\", id(a), id(b), id(c), id(d), id(e));"
      ],
      "metadata": {
        "colab": {
          "base_uri": "https://localhost:8080/"
        },
        "id": "umEdOGjmLxjG",
        "outputId": "4911e245-4229-476b-ab16-2c6a5edc902d"
      },
      "execution_count": 3,
      "outputs": [
        {
          "output_type": "stream",
          "name": "stdout",
          "text": [
            "ID of the variables: 10758024 137700593969488 137700584210288 137700594261312 137700584204736\n"
          ]
        }
      ]
    },
    {
      "cell_type": "code",
      "source": [
        "# 3. Create a second variable that references the same object as one of your first variables.\n",
        "x = a\n",
        "y = b\n",
        "z = c\n",
        "m = d\n",
        "n = e\n",
        "print(\"Id of a & x:\", id(a), id(x))\n",
        "print(\"Id of b & y:\", id(b), id(y))\n",
        "print(\"Id of c & z:\", id(c), id(z))\n",
        "print(\"Id of d & m:\", id(d), id(m))\n",
        "print(\"Id of e & n:\", id(e), id(n))"
      ],
      "metadata": {
        "colab": {
          "base_uri": "https://localhost:8080/"
        },
        "id": "eJGKQIAFMmlR",
        "outputId": "d2ccd47b-5210-4fb3-da08-e256cde07c7f"
      },
      "execution_count": 4,
      "outputs": [
        {
          "output_type": "stream",
          "name": "stdout",
          "text": [
            "Id of a & x: 10758024 10758024\n",
            "Id of b & y: 137700593969488 137700593969488\n",
            "Id of c & z: 137700584210288 137700584210288\n",
            "Id of d & m: 137700594261312 137700594261312\n",
            "Id of e & n: 137700584204736 137700584204736\n"
          ]
        }
      ]
    },
    {
      "cell_type": "code",
      "source": [
        "# 4. Modify the original variable and observe what happens to the second one (for both\n",
        "# mutable and immutable types).\n",
        "\n",
        "a = a + 1\n",
        "b = b + 10.67\n",
        "c = c + \" learning py3\"\n",
        "d = d + ['SQL']\n",
        "e = e + ('aws', 'gcp')\n",
        "print(\"Id of a & x:\", id(a), id(x))\n",
        "print(\"Id of b & y:\", id(b), id(y))\n",
        "print(\"Id of c & z:\", id(c), id(z))\n",
        "print(\"Id of d & m:\", id(d), id(m))\n",
        "print(\"Id of e & n:\", id(e), id(n))"
      ],
      "metadata": {
        "colab": {
          "base_uri": "https://localhost:8080/"
        },
        "id": "n24E_yPdNa9G",
        "outputId": "8a048a1f-0a39-43df-8b3c-1b14cd695bd2"
      },
      "execution_count": 5,
      "outputs": [
        {
          "output_type": "stream",
          "name": "stdout",
          "text": [
            "Id of a & x: 10758056 10758024\n",
            "Id of b & y: 137700593973168 137700593969488\n",
            "Id of c & z: 137700584349392 137700584210288\n",
            "Id of d & m: 137700603387328 137700594261312\n",
            "Id of e & n: 137700584342288 137700584204736\n"
          ]
        }
      ]
    },
    {
      "cell_type": "code",
      "source": [
        "# 5. Include comments explaining the behavior you observe.\n",
        "ans = 'All the address has been changed after additing'\n",
        "print(ans)"
      ],
      "metadata": {
        "colab": {
          "base_uri": "https://localhost:8080/"
        },
        "id": "VcG4BGNgOHiW",
        "outputId": "0eb27592-d369-43fb-94ae-b74e7d18997f"
      },
      "execution_count": 6,
      "outputs": [
        {
          "output_type": "stream",
          "name": "stdout",
          "text": [
            "All the address has been changed after additing\n"
          ]
        }
      ]
    },
    {
      "cell_type": "code",
      "source": [],
      "metadata": {
        "id": "rq4cmAoASO88"
      },
      "execution_count": 6,
      "outputs": []
    },
    {
      "cell_type": "markdown",
      "source": [
        "## Exercise 1.2: Variable Scope Investigation"
      ],
      "metadata": {
        "id": "P66MiOP1SRQl"
      }
    },
    {
      "cell_type": "markdown",
      "source": [
        "Create a function that demonstrates variable scope in Python:\n",
        "1. Define global variables outside the function.\n",
        "2. Define local variables inside the function with the same names.\n",
        "3. Try to modify a global variable both with and without the global keyword.\n",
        "4. Print the IDs of all variables before and after modifications.\n",
        "5. Explain what happens and why in your comments. **bold text**"
      ],
      "metadata": {
        "id": "YwDHGJVCSU1P"
      }
    },
    {
      "cell_type": "code",
      "source": [
        "# Define global variables outside the function.\n",
        "globle_var = 'outer'\n",
        "\n",
        "def my_demo_fun():\n",
        "  globle_var = 'inner'\n",
        "  print(\"In function:\", id(globle_var))\n",
        "  return None\n",
        "\n",
        "# main\n",
        "if __name__ == '__main__':\n",
        "  print(\"Before function call:\", id(globle_var))\n",
        "  my_demo_fun()\n",
        "  print(\"After function call:\", id(globle_var))\n"
      ],
      "metadata": {
        "colab": {
          "base_uri": "https://localhost:8080/"
        },
        "id": "m6uWJlh5SWkY",
        "outputId": "8f950cc6-8f68-4aee-d6fa-1260ebf4b4b6"
      },
      "execution_count": 7,
      "outputs": [
        {
          "output_type": "stream",
          "name": "stdout",
          "text": [
            "Before function call: 137701145838640\n",
            "In function: 137701163982448\n",
            "After function call: 137701145838640\n"
          ]
        }
      ]
    },
    {
      "cell_type": "code",
      "source": [
        "# 2. Define local variables inside the function with the same names.\n",
        "x = 10\n",
        "print(x)\n",
        "\n",
        "def test(y):\n",
        "  x = y\n",
        "  return None\n",
        "\n",
        "if __name__ == '__main__':\n",
        "  print(\"Before function call:\", id(x))\n",
        "  test(x)\n",
        "  print(\"After function call:\", id(x))\n",
        "\n"
      ],
      "metadata": {
        "colab": {
          "base_uri": "https://localhost:8080/"
        },
        "id": "4RhS2uQmTQHH",
        "outputId": "4afffd23-b985-4fa3-8332-420b4db97abd"
      },
      "execution_count": 8,
      "outputs": [
        {
          "output_type": "stream",
          "name": "stdout",
          "text": [
            "10\n",
            "Before function call: 10758024\n",
            "After function call: 10758024\n"
          ]
        }
      ]
    },
    {
      "cell_type": "code",
      "source": [
        "# 3. Try to modify a global variable both with and without the global keyword.\n",
        "\n",
        "# without global keyword\n",
        "z = 10\n",
        "\n",
        "def update():\n",
        "  # z = z + 1 # this is giving an error\n",
        "  return None\n",
        "\n",
        "if __name__ == '__main__':\n",
        "  print(\"Before function call:\", id(z))\n",
        "  update()\n",
        "  print(\"After function call:\", id(z))\n",
        "\n",
        "\n",
        "# with globle keyword\n",
        "\n",
        "x = 10\n",
        "\n",
        "def new_update():\n",
        "  global x\n",
        "  x = x + 1\n",
        "  return None\n",
        "\n",
        "if __name__ == '__main__':\n",
        "  print(\"Before function call:\", id(x))\n",
        "  new_update()\n",
        "  print(\"After function call:\", id(x))\n"
      ],
      "metadata": {
        "colab": {
          "base_uri": "https://localhost:8080/"
        },
        "id": "1-vE9138U4bt",
        "outputId": "97f99292-cb9c-4c4e-ddc6-df7d56a81cf3"
      },
      "execution_count": 9,
      "outputs": [
        {
          "output_type": "stream",
          "name": "stdout",
          "text": [
            "Before function call: 10758024\n",
            "After function call: 10758024\n",
            "Before function call: 10758024\n",
            "After function call: 10758056\n"
          ]
        }
      ]
    },
    {
      "cell_type": "code",
      "source": [
        "# 4. Print the IDs of all variables before and after modifications.\n",
        "q = 90\n",
        "\n",
        "def update_q():\n",
        "  global q\n",
        "  q = q + 1\n",
        "  return None\n",
        "\n",
        "if __name__ == '__main__':\n",
        "  print(\"Before function call:\", id(q))\n",
        "  update_q()\n",
        "  print(\"After function call:\", id(q))"
      ],
      "metadata": {
        "colab": {
          "base_uri": "https://localhost:8080/"
        },
        "id": "86sUuMwOVz8S",
        "outputId": "f7ad961d-fbcc-4ead-c6f0-94e3c6305e3e"
      },
      "execution_count": 10,
      "outputs": [
        {
          "output_type": "stream",
          "name": "stdout",
          "text": [
            "Before function call: 10760584\n",
            "After function call: 10760616\n"
          ]
        }
      ]
    },
    {
      "cell_type": "code",
      "source": [
        "# 5. Explain what happens and why in your comments.\n",
        "ans = 'Python is thinking - \\ninside the function if you are not telling use the old variabe with the global keybword then python will think yo are operating on new variale'\n",
        "print(ans)"
      ],
      "metadata": {
        "colab": {
          "base_uri": "https://localhost:8080/"
        },
        "id": "TOg2XWQFW1mV",
        "outputId": "1f6f8d4b-771e-4d3a-b6c0-99431727cbc3"
      },
      "execution_count": 11,
      "outputs": [
        {
          "output_type": "stream",
          "name": "stdout",
          "text": [
            "Python is thinking - \n",
            "inside the function if you are not telling use the old variabe with the global keybword then python will think yo are operating on new variale\n"
          ]
        }
      ]
    },
    {
      "cell_type": "code",
      "source": [],
      "metadata": {
        "id": "3VAycmrhXWhk"
      },
      "execution_count": 11,
      "outputs": []
    },
    {
      "cell_type": "code",
      "source": [],
      "metadata": {
        "id": "fAAXiWnyXjmP"
      },
      "execution_count": 11,
      "outputs": []
    },
    {
      "cell_type": "markdown",
      "source": [
        "# Part 2: Data Types and Type Conversion"
      ],
      "metadata": {
        "id": "eeOsL_rDXkmi"
      }
    },
    {
      "cell_type": "markdown",
      "source": [
        "## Exercise 2.1: Type Exploration"
      ],
      "metadata": {
        "id": "T_EVIJwCYGbH"
      }
    },
    {
      "cell_type": "markdown",
      "source": [
        "Create a program that:\n",
        "1. Creates at least one variable of each of these types: int, float, complex, bool, str, and\n",
        "None.\n",
        "2. Uses the type() function to verify the type of each variable.\n",
        "3. Uses isinstance() to check if variables are of specific types.\n",
        "4. Demonstrates at least three examples where Python automatically converts types in\n",
        "expressions.\n",
        "5. Includes comments documenting your observations about type behavior. **bold text**"
      ],
      "metadata": {
        "id": "j0pFJooXYINV"
      }
    },
    {
      "cell_type": "code",
      "source": [
        "# 1. Creates at least one variable of each of these types: int, float, complex, bool, str, and None.\n",
        "var_int = 10\n",
        "var_float = 10.34\n",
        "var_complex = 34+78j\n",
        "var_bool = False\n",
        "var_str = 'py3'\n",
        "var_none = None"
      ],
      "metadata": {
        "id": "TkKEsP1xYK9b"
      },
      "execution_count": 12,
      "outputs": []
    },
    {
      "cell_type": "code",
      "source": [
        "# 2. Uses the type() function to verify the type of each variable\n",
        "print(var_int, type(var_int))\n",
        "print(var_float, type(var_float))\n",
        "print(var_complex, type(var_complex))\n",
        "print(var_bool, type(var_bool))\n",
        "print(var_str, type(var_str))"
      ],
      "metadata": {
        "colab": {
          "base_uri": "https://localhost:8080/"
        },
        "id": "RayzSTjJYsWi",
        "outputId": "0d9fbba4-77ef-4e71-b697-6a93a3a202fd"
      },
      "execution_count": 13,
      "outputs": [
        {
          "output_type": "stream",
          "name": "stdout",
          "text": [
            "10 <class 'int'>\n",
            "10.34 <class 'float'>\n",
            "(34+78j) <class 'complex'>\n",
            "False <class 'bool'>\n",
            "py3 <class 'str'>\n"
          ]
        }
      ]
    },
    {
      "cell_type": "code",
      "source": [
        "# 3. Uses isinstance() to check if variables are of specific types.\n",
        "print(f'var_int is an instance of int: {isinstance(var_int, int)}')\n",
        "print(f'var_float is an instance of float: {isinstance(var_float, float)}')\n",
        "print(f'var_complex is an instance of complex: {isinstance(var_complex, complex)}')\n",
        "print(f'var_bool is an instance of bool: {isinstance(var_bool, bool)}')\n",
        "print(f'var_str is an instance of str: {isinstance(var_str, str)}')"
      ],
      "metadata": {
        "colab": {
          "base_uri": "https://localhost:8080/"
        },
        "id": "lcTps2VSYyCz",
        "outputId": "daea9247-a714-49a0-b1a9-bc30bfc68757"
      },
      "execution_count": 14,
      "outputs": [
        {
          "output_type": "stream",
          "name": "stdout",
          "text": [
            "var_int is an instance of int: True\n",
            "var_float is an instance of float: True\n",
            "var_complex is an instance of complex: True\n",
            "var_bool is an instance of bool: True\n",
            "var_str is an instance of str: True\n"
          ]
        }
      ]
    },
    {
      "cell_type": "code",
      "source": [
        "# 4. Demonstrates at least three examples where Python automatically converts types in expressions.\n",
        "\n",
        "# example 01\n",
        "a = 10\n",
        "b = 1.0234\n",
        "c = a + b # a will be upgradte to float\n",
        "print(c, type(c))\n",
        "\n",
        "# example 02\n",
        "x = True\n",
        "y = 1\n",
        "z = x + y # x will be upgradte to int\n",
        "print(z, type(z))\n",
        "\n",
        "# example 03\n",
        "f = 45\n",
        "g = 45.00\n",
        "if (f >= g):\n",
        "  print(\"f is grater or equal\")\n",
        "else:\n",
        "  print('g is less')\n",
        "\n"
      ],
      "metadata": {
        "colab": {
          "base_uri": "https://localhost:8080/"
        },
        "id": "G0wocGpYZgrM",
        "outputId": "487a72b8-4ae0-40f9-f355-248b515335bc"
      },
      "execution_count": 15,
      "outputs": [
        {
          "output_type": "stream",
          "name": "stdout",
          "text": [
            "11.0234 <class 'float'>\n",
            "2 <class 'int'>\n",
            "f is grater or equal\n"
          ]
        }
      ]
    },
    {
      "cell_type": "code",
      "source": [
        "# 5. Includes comments documenting your observations about type behavior.\n",
        "ans = 'python is converting the variabls if they are convertable'\n",
        "print(ans)"
      ],
      "metadata": {
        "colab": {
          "base_uri": "https://localhost:8080/"
        },
        "id": "3pOPQ0BTaWYv",
        "outputId": "eda92340-8ce6-44c6-b4f5-d74858dc1475"
      },
      "execution_count": 16,
      "outputs": [
        {
          "output_type": "stream",
          "name": "stdout",
          "text": [
            "python is converting the variabls if they are convertable\n"
          ]
        }
      ]
    },
    {
      "cell_type": "markdown",
      "source": [
        "## Exercise 2.2: Type Conversion Challenge"
      ],
      "metadata": {
        "id": "u0ixR7Olc04e"
      }
    },
    {
      "cell_type": "markdown",
      "source": [
        "Write a function that:\n",
        "1. Takes a string input containing a mixture of numbers and text (e.g., \"I am 25 years old\n",
        "and my height is 5.9 feet\").\n",
        "2. Extracts all numbers from the string and converts them to their appropriate numeric types\n",
        "(int or float).\n",
        "3. Returns a tuple containing two lists: one with all integers found and one with all floats\n",
        "found.\n",
        "4. Handles potential conversion errors gracefully. **bold text**"
      ],
      "metadata": {
        "id": "0JFxNqg7c8Tv"
      }
    },
    {
      "cell_type": "code",
      "source": [
        "# Takes a string input containing a mixture of numbers and text (e.g., \"I am 25 years old and my height is 5.9 feet\").\n",
        "age = input(\"Enter your age:\")\n",
        "hight = input(\"Enter you hight:\")\n",
        "sentance = f'I am {age} years old and my height is {hight}'\n",
        "print(sentance)\n"
      ],
      "metadata": {
        "colab": {
          "base_uri": "https://localhost:8080/"
        },
        "id": "8JPZXcqvdADW",
        "outputId": "d722dccb-702e-4144-8938-449a30a5ce70"
      },
      "execution_count": 17,
      "outputs": [
        {
          "output_type": "stream",
          "name": "stdout",
          "text": [
            "Enter your age:23\n",
            "Enter you hight:5.8\n",
            "I am 23 years old and my height is 5.8\n"
          ]
        }
      ]
    },
    {
      "cell_type": "code",
      "source": [
        "# from sre_constants import INFO\n",
        "# 2. Extracts all numbers from the string and converts them to their appropriate numeric types (int or float).\n",
        "print(sentance)\n",
        "\n",
        "int_list = []\n",
        "float_list = []\n",
        "str_list = []\n",
        "\n",
        "for i in sentance.split():\n",
        "\n",
        "  if i.isnumeric():\n",
        "    int_list.append(int(i))\n",
        "  elif i.isdecimal():\n",
        "    float_list.append(float(i))\n",
        "  else:\n",
        "    str_list.append(i)\n",
        "\n",
        "print(f'int_list: {int_list}')\n",
        "print(f'float_list: {float_list}')\n",
        "\n",
        "# THIS CODE HAS A WRONG OUTPUT\n"
      ],
      "metadata": {
        "colab": {
          "base_uri": "https://localhost:8080/"
        },
        "id": "QFESuiBQe1PQ",
        "outputId": "3a9cf906-2f47-47a4-f215-1f1f6d238044"
      },
      "execution_count": 34,
      "outputs": [
        {
          "output_type": "stream",
          "name": "stdout",
          "text": [
            "I am 23 years old and my height is 5.8\n",
            "int_list: [23]\n",
            "float_list: []\n"
          ]
        }
      ]
    },
    {
      "cell_type": "code",
      "source": [
        "test = '2993846000'\n",
        "print(test.isdecimal())"
      ],
      "metadata": {
        "id": "xTpO3t4ffYU-",
        "colab": {
          "base_uri": "https://localhost:8080/"
        },
        "outputId": "f4732bc2-d88f-439f-b5a1-59f600770e06"
      },
      "execution_count": 33,
      "outputs": [
        {
          "output_type": "stream",
          "name": "stdout",
          "text": [
            "True\n"
          ]
        }
      ]
    },
    {
      "cell_type": "code",
      "source": [
        "from posixpath import split\n",
        "# CORRECT CODE\n",
        "\n",
        "age = input(\"Enter your age:\")\n",
        "hight = input(\"Enter you hight:\")\n",
        "sentance = f'I am {age} years old and my height is {hight}'\n",
        "print(sentance)\n",
        "\n",
        "# filter the data according to data type\n",
        "\n",
        "int_list = []\n",
        "float_list = []\n",
        "string_list = []\n",
        "\n",
        "def filter_data(stm):\n",
        "  for word in stm.split():\n",
        "    try:\n",
        "      if '.' in word:\n",
        "        float_list.append(word)\n",
        "      elif word.isnumeric():\n",
        "        int_list.append(word)\n",
        "      else:\n",
        "        string_list.append(word)\n",
        "    except ValueError() as err:\n",
        "      print(\"<Error Occured> \", err)\n",
        "  return (int_list, float_list, string_list)\n",
        "\n",
        "\n",
        "# main\n",
        "if __name__ == '__main__':\n",
        "  int_list, float_list, string_list = filter_data(sentance)\n",
        "  print(f'int_list: {int_list}')\n",
        "  print(f'float_list: {float_list}')\n",
        "  print(f'string_list: {string_list}')\n"
      ],
      "metadata": {
        "colab": {
          "base_uri": "https://localhost:8080/"
        },
        "id": "3AIoM__Kd11H",
        "outputId": "cafb27b0-1d4e-431e-b8c8-0d9aa22ad480"
      },
      "execution_count": 41,
      "outputs": [
        {
          "output_type": "stream",
          "name": "stdout",
          "text": [
            "Enter your age:23\n",
            "Enter you hight:5.7\n",
            "I am 23 years old and my height is 5.7\n",
            "int_list: ['23']\n",
            "float_list: ['5.7']\n",
            "string_list: ['I', 'am', 'years', 'old', 'and', 'my', 'height', 'is']\n"
          ]
        }
      ]
    },
    {
      "cell_type": "code",
      "source": [
        "# 3. Returns a tuple containing two lists: one with all integers found and one with all floats found\n",
        "#  Handles potential conversion errors gracefully.\n",
        "# filter the data according to data type\n",
        "\n",
        "sentance = input(\"Enter string: \")\n",
        "\n",
        "int_list = []\n",
        "float_list = []\n",
        "string_list = []\n",
        "\n",
        "def filter_data(stm):\n",
        "  for word in stm.split():\n",
        "    try:\n",
        "      if '.' in word:\n",
        "        float_list.append(word)\n",
        "      elif word.isnumeric():\n",
        "        int_list.append(word)\n",
        "      else:\n",
        "        string_list.append(word)\n",
        "    except ValueError() as err:\n",
        "      print(\"<Error Occured> \", err)\n",
        "  return (int_list, float_list, string_list)\n",
        "\n",
        "\n",
        "# main\n",
        "if __name__ == '__main__':\n",
        "  int_list, float_list, string_list = filter_data(sentance)\n",
        "  print(f'int_list: {int_list}')\n",
        "  print(f'float_list: {float_list}')\n",
        "  print(f'string_list: {string_list}')\n",
        "\n",
        "  print(type(int_list))\n",
        "  print(type(float_list))\n",
        "\n"
      ],
      "metadata": {
        "colab": {
          "base_uri": "https://localhost:8080/"
        },
        "id": "X8QwtjYizS_B",
        "outputId": "ea0fe481-6e76-4a33-eafe-5d6e1fe9f0a5"
      },
      "execution_count": 45,
      "outputs": [
        {
          "output_type": "stream",
          "name": "stdout",
          "text": [
            "Enter string: Hi my name is akash yadav. I am 23. Today date is 02/08/2025. I am testing the code for filtering the data like 34.54 as float 45 as int 34 45 23 45.34 2333.4546 5657.543\n",
            "int_list: ['45', '34', '45', '23']\n",
            "float_list: ['yadav.', '23.', '02/08/2025.', '34.54', '45.34', '2333.4546', '5657.543']\n",
            "string_list: ['Hi', 'my', 'name', 'is', 'akash', 'I', 'am', 'Today', 'date', 'is', 'I', 'am', 'testing', 'the', 'code', 'for', 'filtering', 'the', 'data', 'like', 'as', 'float', 'as', 'int']\n",
            "<class 'list'>\n",
            "<class 'list'>\n"
          ]
        }
      ]
    },
    {
      "cell_type": "code",
      "source": [],
      "metadata": {
        "id": "8eP_bGDn118y"
      },
      "execution_count": null,
      "outputs": []
    }
  ]
}