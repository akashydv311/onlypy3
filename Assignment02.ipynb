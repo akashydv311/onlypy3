{
  "nbformat": 4,
  "nbformat_minor": 0,
  "metadata": {
    "colab": {
      "provenance": [],
      "authorship_tag": "ABX9TyO0gjazfLZlAWv5t3eJ9waB",
      "include_colab_link": true
    },
    "kernelspec": {
      "name": "python3",
      "display_name": "Python 3"
    },
    "language_info": {
      "name": "python"
    }
  },
  "cells": [
    {
      "cell_type": "markdown",
      "metadata": {
        "id": "view-in-github",
        "colab_type": "text"
      },
      "source": [
        "<a href=\"https://colab.research.google.com/github/akashydv311/onlypy3/blob/main/Assignment02.ipynb\" target=\"_parent\"><img src=\"https://colab.research.google.com/assets/colab-badge.svg\" alt=\"Open In Colab\"/></a>"
      ]
    },
    {
      "cell_type": "code",
      "execution_count": null,
      "metadata": {
        "id": "GrvN6pf5R-l2"
      },
      "outputs": [],
      "source": []
    },
    {
      "cell_type": "markdown",
      "source": [
        "# Python Strings Assignment (Basic to Advanced)"
      ],
      "metadata": {
        "id": "qi9F_2T8Vdai"
      }
    },
    {
      "cell_type": "markdown",
      "source": [
        "### Section 1: Creating & Accessing Strings (Basic)"
      ],
      "metadata": {
        "id": "WZrwAFi9Vh_3"
      }
    },
    {
      "cell_type": "markdown",
      "source": [
        "1. Create three different strings using different quotation methods (single quotes, double\n",
        "quotes, and triple quotes).\n",
        "2. Create a string variable containing your full name and write code to:\n",
        "o Print the first character\n",
        "o Print the last character\n",
        "o Print the length of the string\n",
        "3. Given the string s = \"Python Programming\":\n",
        "o Access and print the letter 'P' in \"Programming\" using positive indexing\n",
        "o Access and print the letter 'P' in \"Programming\" using negative indexing"
      ],
      "metadata": {
        "id": "7AVpUPufVlLz"
      }
    },
    {
      "cell_type": "code",
      "source": [
        "# Create three different strings using different quotation methods (single quotes, double quotes, and triple quotes).\n",
        "\n",
        "first_str = 'python3'\n",
        "second_str = \"java8\"\n",
        "third_str = \"\"\"Machine Learning\"\"\"\n",
        "\n",
        "print(first_str)\n",
        "print(second_str)\n",
        "print(third_str)"
      ],
      "metadata": {
        "colab": {
          "base_uri": "https://localhost:8080/"
        },
        "id": "d22vHKFqVnbU",
        "outputId": "d4fbfde1-3961-4c95-d910-b6f51881bab0"
      },
      "execution_count": 3,
      "outputs": [
        {
          "output_type": "stream",
          "name": "stdout",
          "text": [
            "python3\n",
            "java8\n",
            "Machine Learning\n"
          ]
        }
      ]
    },
    {
      "cell_type": "code",
      "source": [
        "# Create a string variable containing your full name and write code to: o Print the first character o Print the last character o Print the length of the string\n",
        "\n",
        "name = 'Akash Yadav'\n",
        "# firstname = name[0]\n",
        "# lastname = name[1]\n",
        "\n",
        "fullname = name.split()\n",
        "print(\"FirstName: \", fullname[0])\n",
        "print(\"LastName: \", fullname[1])\n",
        "\n"
      ],
      "metadata": {
        "colab": {
          "base_uri": "https://localhost:8080/"
        },
        "id": "iZ2FM3etV_RL",
        "outputId": "057a0598-585d-411d-a5ca-f876c5d5a9c0"
      },
      "execution_count": 7,
      "outputs": [
        {
          "output_type": "stream",
          "name": "stdout",
          "text": [
            "FirstName:  Akash\n",
            "LastName:  Yadav\n"
          ]
        }
      ]
    },
    {
      "cell_type": "code",
      "source": [
        "# 3 Given the string s = \"Python Programming\": o Access and print the letter 'P' in \"Programming\" using positive indexing o Access and print the letter 'P' in \"Programming\" using negative indexing\n",
        "\n",
        "s = 'Python Programming'\n",
        "\n",
        "new_s1 = s.split()\n",
        "ans01 = new_s1[1][0]\n",
        "print(ans01)\n",
        "\n",
        "new_s2 = s.split()\n",
        "ans02 = new_s2[:-1]\n",
        "print(ans02)\n",
        "\n",
        "\n"
      ],
      "metadata": {
        "colab": {
          "base_uri": "https://localhost:8080/"
        },
        "id": "xCvHShJZW4ug",
        "outputId": "7fcd2644-5342-436d-dbb8-cc9a992c7a41"
      },
      "execution_count": 15,
      "outputs": [
        {
          "output_type": "stream",
          "name": "stdout",
          "text": [
            "P\n",
            "['Python']\n"
          ]
        }
      ]
    },
    {
      "cell_type": "code",
      "source": [
        "#"
      ],
      "metadata": {
        "id": "b1UdmC5YXfqf"
      },
      "execution_count": null,
      "outputs": []
    }
  ]
}