{
  "nbformat": 4,
  "nbformat_minor": 0,
  "metadata": {
    "colab": {
      "provenance": [],
      "authorship_tag": "ABX9TyMNUJ8ouseBrnVLhtCSi6oT",
      "include_colab_link": true
    },
    "kernelspec": {
      "name": "python3",
      "display_name": "Python 3"
    },
    "language_info": {
      "name": "python"
    }
  },
  "cells": [
    {
      "cell_type": "markdown",
      "metadata": {
        "id": "view-in-github",
        "colab_type": "text"
      },
      "source": [
        "<a href=\"https://colab.research.google.com/github/akashydv311/onlypy3/blob/main/bytes_of_python.ipynb\" target=\"_parent\"><img src=\"https://colab.research.google.com/assets/colab-badge.svg\" alt=\"Open In Colab\"/></a>"
      ]
    },
    {
      "cell_type": "code",
      "execution_count": 2,
      "metadata": {
        "id": "vbAxNJ8-hHlL",
        "colab": {
          "base_uri": "https://localhost:8080/"
        },
        "outputId": "5177f2b7-2a36-4f73-dd55-727a0bb45b27"
      },
      "outputs": [
        {
          "output_type": "stream",
          "name": "stdout",
          "text": [
            "Hello, World!\n"
          ]
        }
      ],
      "source": [
        "print(\"Hello, World!\")"
      ]
    },
    {
      "cell_type": "markdown",
      "source": [],
      "metadata": {
        "id": "ySpuo95shP6D"
      }
    },
    {
      "cell_type": "code",
      "source": [],
      "metadata": {
        "colab": {
          "base_uri": "https://localhost:8080/"
        },
        "id": "8W76CFDtP-8p",
        "outputId": "9f61692c-8463-423f-b7c3-5de8b6505085"
      },
      "execution_count": 3,
      "outputs": [
        {
          "output_type": "execute_result",
          "data": {
            "text/plain": [
              "int"
            ]
          },
          "metadata": {},
          "execution_count": 3
        }
      ]
    },
    {
      "cell_type": "markdown",
      "source": [
        "## Variabls and Data types"
      ],
      "metadata": {
        "id": "C5km9oF3RaIs"
      }
    },
    {
      "cell_type": "code",
      "source": [
        "int_var = type(10)\n",
        "float_var = type(78.67)\n",
        "string_var = type(\"python\")\n",
        "bool_var = type(True)\n",
        "complex_var = type(3+67j)\n",
        "print(int_var)\n",
        "print(float_var)\n",
        "print(string_var)\n",
        "print(bool_var)\n",
        "print(complex_var)"
      ],
      "metadata": {
        "colab": {
          "base_uri": "https://localhost:8080/"
        },
        "id": "hLCOH6xiQCG-",
        "outputId": "a99610ce-887f-4a8a-bec1-54c94ddc0b1e"
      },
      "execution_count": 5,
      "outputs": [
        {
          "output_type": "stream",
          "name": "stdout",
          "text": [
            "<class 'int'>\n",
            "<class 'float'>\n",
            "<class 'str'>\n",
            "<class 'bool'>\n",
            "<class 'complex'>\n"
          ]
        }
      ]
    },
    {
      "cell_type": "code",
      "source": [
        "# converting from one datatype to another\n",
        "z  = 101\n",
        "type(z)\n",
        "x = float(z)\n",
        "type(x)"
      ],
      "metadata": {
        "colab": {
          "base_uri": "https://localhost:8080/"
        },
        "id": "9UVSpI5fSRdr",
        "outputId": "12e1bfcd-23f8-4ef6-db0e-da5468c2e5a9"
      },
      "execution_count": 8,
      "outputs": [
        {
          "output_type": "execute_result",
          "data": {
            "text/plain": [
              "float"
            ]
          },
          "metadata": {},
          "execution_count": 8
        }
      ]
    },
    {
      "cell_type": "code",
      "source": [
        "# sepriating the complex\n",
        "x = 3+8j\n",
        "print(x.real)\n",
        "print(x.imag)"
      ],
      "metadata": {
        "colab": {
          "base_uri": "https://localhost:8080/"
        },
        "id": "HpUwm6Q3Ss9R",
        "outputId": "795280fb-f607-4f8d-99d9-6bfe88cf1b74"
      },
      "execution_count": 10,
      "outputs": [
        {
          "output_type": "stream",
          "name": "stdout",
          "text": [
            "3.0\n",
            "8.0\n"
          ]
        }
      ]
    },
    {
      "cell_type": "code",
      "source": [
        "sum = 0.1 + 0.2\n",
        "sum"
      ],
      "metadata": {
        "colab": {
          "base_uri": "https://localhost:8080/"
        },
        "id": "uSr-MruBS5NA",
        "outputId": "56ee017f-3263-42d3-e2be-1d2af6ab7ff3"
      },
      "execution_count": 11,
      "outputs": [
        {
          "output_type": "execute_result",
          "data": {
            "text/plain": [
              "0.30000000000000004"
            ]
          },
          "metadata": {},
          "execution_count": 11
        }
      ]
    },
    {
      "cell_type": "code",
      "metadata": {
        "colab": {
          "base_uri": "https://localhost:8080/"
        },
        "id": "bf1f1bd9",
        "outputId": "74a91a15-c3a8-4656-ee96-0af5f6e68135"
      },
      "source": [
        "from decimal import Decimal\n",
        "\n",
        "# Create Decimal objects from strings to ensure exact representation\n",
        "decimal_sum = Decimal('0.1') + Decimal('0.2')\n",
        "print(decimal_sum)\n",
        "\n",
        "# You can also control the precision\n",
        "from decimal import getcontext\n",
        "getcontext().prec = 20 # Set precision to 20 decimal places\n",
        "\n",
        "decimal_sum_precise = Decimal('0.1') + Decimal('0.2')\n",
        "print(decimal_sum_precise)"
      ],
      "execution_count": 13,
      "outputs": [
        {
          "output_type": "stream",
          "name": "stdout",
          "text": [
            "0.3\n",
            "0.3\n"
          ]
        }
      ]
    },
    {
      "cell_type": "code",
      "source": [
        "from decimal import Decimal\n",
        "f1 = 10.5\n",
        "f2 = 11.45\n",
        "getcontext().prec = 10\n",
        "sum = Decimal(f1) + Decimal(f2)\n",
        "print(sum)"
      ],
      "metadata": {
        "colab": {
          "base_uri": "https://localhost:8080/"
        },
        "id": "5lf8zXIzTHtW",
        "outputId": "8a54b5ae-7468-499d-953a-4cd84d88c16f"
      },
      "execution_count": 14,
      "outputs": [
        {
          "output_type": "stream",
          "name": "stdout",
          "text": [
            "21.95000000\n"
          ]
        }
      ]
    },
    {
      "cell_type": "code",
      "source": [
        "# implicit type casting\n",
        "a = 0.0\n",
        "b = 10\n",
        "c = a + b\n",
        "print(c)\n",
        "type(c)"
      ],
      "metadata": {
        "colab": {
          "base_uri": "https://localhost:8080/"
        },
        "id": "-52i-4PVVjub",
        "outputId": "93041dc1-61c4-4930-900b-4f14fcb01777"
      },
      "execution_count": 16,
      "outputs": [
        {
          "output_type": "stream",
          "name": "stdout",
          "text": [
            "10.0\n"
          ]
        },
        {
          "output_type": "execute_result",
          "data": {
            "text/plain": [
              "float"
            ]
          },
          "metadata": {},
          "execution_count": 16
        }
      ]
    },
    {
      "cell_type": "markdown",
      "source": [],
      "metadata": {
        "id": "XUYjXnCjKjlh"
      }
    },
    {
      "cell_type": "code",
      "source": [
        "# Explicit type casting\n",
        "a = '10'\n",
        "b = 10\n",
        "# c = a+b # this give typeError\n",
        "c = int(a)+b\n",
        "print(c)\n",
        "type(c)"
      ],
      "metadata": {
        "colab": {
          "base_uri": "https://localhost:8080/"
        },
        "id": "LJo8FrjwVzWD",
        "outputId": "0067e51b-a725-40d2-b3c0-5f4aeef06d11"
      },
      "execution_count": 19,
      "outputs": [
        {
          "output_type": "stream",
          "name": "stdout",
          "text": [
            "20\n"
          ]
        },
        {
          "output_type": "execute_result",
          "data": {
            "text/plain": [
              "int"
            ]
          },
          "metadata": {},
          "execution_count": 19
        }
      ]
    },
    {
      "cell_type": "code",
      "source": [],
      "metadata": {
        "id": "fexSqPubWJgd"
      },
      "execution_count": null,
      "outputs": []
    }
  ]
}